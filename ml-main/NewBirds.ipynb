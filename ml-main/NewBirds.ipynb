{
 "cells": [
  {
   "cell_type": "code",
   "execution_count": null,
   "id": "7c046595",
   "metadata": {},
   "outputs": [],
   "source": [
    "import torch.utils.data\n",
    "from torch.utils.data.dataset import Dataset\n",
    "import torch.nn as nn\n",
    "import torch.nn.functional as F\n",
    "import torch.optim as optim\n",
    "import torchvision.datasets as datasets\n",
    "import torchvision.transforms as transforms\n",
    "import torchvision.models as tvm\n",
    "import numpy as np\n",
    "import os\n",
    "import matplotlib.pyplot as plt\n",
    "from PIL import Image\n",
    "import sklearn.metrics as skms"
   ]
  },
  {
   "cell_type": "code",
   "execution_count": null,
   "id": "cfb4a359",
   "metadata": {},
   "outputs": [],
   "source": [
    "path = 'new_images/' # custom data\n",
    "\n",
    "myL = os.listdir(path)\n",
    "numCl = len(myL)"
   ]
  },
  {
   "cell_type": "code",
   "execution_count": null,
   "id": "3dddd7c0",
   "metadata": {},
   "outputs": [],
   "source": [
    "myL # confirming the labels"
   ]
  },
  {
   "cell_type": "code",
   "execution_count": null,
   "id": "9f65d4cc",
   "metadata": {},
   "outputs": [],
   "source": [
    "custom_transform = transforms.Compose([\n",
    "    transforms.RandomHorizontalFlip(p=0.5),\n",
    "    transforms.RandomApply(torch.nn.ModuleList([transforms.ColorJitter()]), p=0.1), # to change color a little bit. When image does not have perect lighting\n",
    "    transforms.Resize(256),\n",
    "    transforms.CenterCrop(224),\n",
    "    transforms.ToTensor(),\n",
    "    transforms.Normalize((0.485, 0.456, 0.406), (0.229, 0.224, 0.225))\n",
    "])\n",
    "\n",
    "all_img = datasets.ImageFolder(path, transform=custom_transform)\n",
    "len(all_img)"
   ]
  },
  {
   "cell_type": "code",
   "execution_count": null,
   "id": "b4256dcf",
   "metadata": {},
   "outputs": [],
   "source": [
    "# all_img.class_to_idx"
   ]
  },
  {
   "cell_type": "code",
   "execution_count": null,
   "id": "7d9713ce",
   "metadata": {},
   "outputs": [],
   "source": [
    "total_count = len(all_img)\n",
    "train_count = int(0.70 * total_count)\n",
    "valid_count = int(0.15* total_count)\n",
    "test_count = total_count - train_count - valid_count # 15 percent for tesing\n",
    "train_set, valid_set, test_set = torch.utils.data.random_split(all_img, (train_count, valid_count,test_count))\n"
   ]
  },
  {
   "cell_type": "code",
   "execution_count": null,
   "id": "dab8482c",
   "metadata": {},
   "outputs": [],
   "source": [
    "# Loaders to Train, Validate and Test \n",
    "tr_loader = torch.utils.data.DataLoader(train_set, batch_size=100,shuffle=True)\n",
    "tv_loader = torch.utils.data.DataLoader(valid_set, batch_size=100,shuffle=True)\n",
    "ts_loader = torch.utils.data.DataLoader(test_set, batch_size=100,shuffle=True)"
   ]
  },
  {
   "cell_type": "code",
   "execution_count": null,
   "id": "83ba5354",
   "metadata": {},
   "outputs": [],
   "source": [
    "# Can be used to plot when debugging\n",
    "\n",
    "# def plot_images(images, labels,normalize = True):\n",
    "\n",
    "#     n_images = len(images)\n",
    "\n",
    "#     rows = int(np.sqrt(n_images))\n",
    "#     cols = int(np.sqrt(n_images))\n",
    "\n",
    "#     fig = plt.figure(figsize = (15, 15))\n",
    "\n",
    "#     for i in range(rows*cols):\n",
    "\n",
    "#         ax = fig.add_subplot(rows, cols, i+1)\n",
    "        \n",
    "#         image = images[i]\n",
    "        \n",
    "#         if normalize:\n",
    "#             image = normalize_image(image)\n",
    "\n",
    "#         ax.imshow(image.permute(1, 2, 0).cpu().numpy())\n",
    "#         label = labels[i]\n",
    "#         ax.set_title(label)\n",
    "#         ax.axis('off')"
   ]
  },
  {
   "cell_type": "code",
   "execution_count": null,
   "id": "7f56ebbc",
   "metadata": {},
   "outputs": [],
   "source": [
    "model = tvm.resnet50(pretrained = True) # importing pretrained resnet 50 model\n",
    "\n",
    "inputFeatures = model.fc.in_features \n",
    "outputClasses = 10 # convert output into 10 classes.\n",
    "\n",
    "fc = nn.Linear(inputFeatures, outputClasses)\n",
    "model.fc = fc"
   ]
  },
  {
   "cell_type": "code",
   "execution_count": null,
   "id": "81ef4f6a",
   "metadata": {},
   "outputs": [],
   "source": [
    "model   # Just to view it"
   ]
  },
  {
   "cell_type": "code",
   "execution_count": null,
   "id": "48078d8d",
   "metadata": {},
   "outputs": [],
   "source": [
    "# Optimizer and Scheduler values not tested thoroughly. Picked a good estimate based off of general choices\n",
    "optimizer = optim.Adam(model.parameters(), lr=3e-4) \n",
    "scheduler = optim.lr_scheduler.ExponentialLR(optimizer, gamma=0.95)\n",
    "\n",
    "DEVICE = 'cuda' if torch.cuda.is_available() else 'cpu'\n",
    "params = {'batch_size': 32, 'num_workers': 8}\n",
    "num_epochs = 10\n",
    "num_classes = 10"
   ]
  },
  {
   "cell_type": "code",
   "execution_count": null,
   "id": "9a97bb90",
   "metadata": {},
   "outputs": [],
   "source": [
    "\n",
    "# Code for training taken and modified from https://towardsdatascience.com/bird-by-bird-using-deep-learning-4c0fa81365d7.\n",
    "\n",
    "# loop over epochs\n",
    "for epoch in range(num_epochs):\n",
    "    \n",
    "    print('Epoch {}/{}'.format(epoch, num_epochs - 1))\n",
    "    print('-' * 10)\n",
    "\n",
    "    # train the model\n",
    "    model.train()\n",
    "    train_loss = list()\n",
    "    train_acc = list()\n",
    "    for batch in tr_loader:\n",
    "        x, y = batch\n",
    "        \n",
    "        x = x.to(DEVICE)\n",
    "        y = y.to(DEVICE)\n",
    "        \n",
    "        optimizer.zero_grad()\n",
    "        # predict bird species\n",
    "        y_pred = model(x)\n",
    "        # calculate the loss\n",
    "        loss = F.cross_entropy(y_pred, y)\n",
    "        # backprop & update weights\n",
    "        loss.backward()\n",
    "        optimizer.step()\n",
    "        # calculate the accuracy\n",
    "        acc = skms.accuracy_score([val.item() for val in y], [val.item() for val in y_pred.argmax(dim=-1)])\n",
    "        \n",
    "        train_loss.append(loss.item())\n",
    "        train_acc.append(acc)\n",
    "\n",
    "        print('Train Loss: {:.4f} Acc: {:.4f}'.format(train_loss[-1], train_acc[-1]))\n",
    "\n",
    "                \n",
    "    # validate the model\n",
    "    model.eval()\n",
    "    val_loss = list()\n",
    "    val_acc = list()\n",
    "    with torch.no_grad():\n",
    "        for batch in tv_loader:\n",
    "            x, y = batch\n",
    "            x = x.to(DEVICE)\n",
    "            y = y.to(DEVICE)\n",
    "            # predict bird species\n",
    "            y_pred = model(x)\n",
    "            \n",
    "            # calculate the loss\n",
    "            loss = F.cross_entropy(y_pred, y)\n",
    "            # calculate the accuracy\n",
    "            acc = skms.accuracy_score([val.item() for val in y], [val.item() for val in y_pred.argmax(dim=-1)])\n",
    "        val_loss.append(loss.item())\n",
    "        val_acc.append(acc)\n",
    "        print('Val Loss: {:.4f} Acc: {:.4f}'.format(val_loss[-1], val_acc[-1]))\n",
    "    # adjust the learning rate\n",
    "    scheduler.step()\n",
    "\n",
    "torch.save(model.state_dict(), \"birdmd1.pth\") # Saved so we dont need to train it multiple times\n",
    "\n",
    "# test the model\n",
    "true = list()\n",
    "pred = list()\n",
    "with torch.no_grad():\n",
    "    for batch in ts_loader:\n",
    "        x, y = batch\n",
    "        x = x.to(DEVICE)\n",
    "        y = y.to(DEVICE)\n",
    "        y_pred = model(x)\n",
    "        true.extend([val.item() for val in y])\n",
    "        pred.extend([val.item() for val in y_pred.argmax(dim=-1)])\n",
    "# calculate the accuracy \n",
    "test_accuracy = skms.accuracy_score(true, pred)\n",
    "print('Test accuracy: {:.3f}'.format(test_accuracy))"
   ]
  },
  {
   "cell_type": "code",
   "execution_count": null,
   "id": "0036520e",
   "metadata": {},
   "outputs": [],
   "source": [
    "# y_pred"
   ]
  },
  {
   "cell_type": "code",
   "execution_count": null,
   "id": "fdb731f4",
   "metadata": {},
   "outputs": [],
   "source": [
    "## Testing\n",
    "\n",
    "\n",
    "# class_names = ['01.Mourning Dove',\n",
    "#  '02.Common Grackle',\n",
    "#  '03.Cardinal',\n",
    "#  '04.American Goldfinch',\n",
    "#  '05.Blue Jay',\n",
    "#  '06.White Breasted Nuthatch',\n",
    "#  '07.House Sparrow',\n",
    "#  '08.Red Bellied Woodpecker',\n",
    "#  '09.Downy Woodpecker',\n",
    "#  '10.Red Winged Black Bird']\n",
    "\n",
    "# model.eval()\n",
    "# for i in range(6):\n",
    "#     strr = \"ml/YoloV3/testbrd{}.jpg\".format(str(i+1))\n",
    "#     print(strr)\n",
    "#     img = Image.open(strr).convert('RGB')\n",
    "#     tr = custom_transform(img)\n",
    "#     tr = tr.unsqueeze(0)\n",
    "\n",
    "#     logits = model(tr)\n",
    "#     pred_probab = nn.Softmax(dim=1)(logits)\n",
    "#     y_pred = pred_probab.argmax(1)\n",
    "#     print(f\"Predicted class: {y_pred}\")\n",
    "#     print(class_names[np.argmax(pred_probab.detach().numpy())])\n",
    "#     print( \" \")\n"
   ]
  }
 ],
 "metadata": {
  "kernelspec": {
   "display_name": "Python 3 (ipykernel)",
   "language": "python",
   "name": "python3"
  },
  "language_info": {
   "codemirror_mode": {
    "name": "ipython",
    "version": 3
   },
   "file_extension": ".py",
   "mimetype": "text/x-python",
   "name": "python",
   "nbconvert_exporter": "python",
   "pygments_lexer": "ipython3",
   "version": "3.9.6"
  },
  "vscode": {
   "interpreter": {
    "hash": "31f2aee4e71d21fbe5cf8b01ff0e069b9275f58929596ceb00d14d90e3e16cd6"
   }
  }
 },
 "nbformat": 4,
 "nbformat_minor": 5
}
